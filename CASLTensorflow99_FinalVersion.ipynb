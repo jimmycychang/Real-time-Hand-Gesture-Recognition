{
 "cells": [
  {
   "cell_type": "code",
   "execution_count": 1,
   "id": "fd20ab78",
   "metadata": {},
   "outputs": [],
   "source": [
    "import os\n",
    "import cv2\n",
    "import random\n",
    "import numpy as np\n",
    "import matplotlib.pyplot as plt\n",
    "from statistics import mean\n",
    "from PIL import Image\n",
    "from time import perf_counter"
   ]
  },
  {
   "cell_type": "code",
   "execution_count": 2,
   "id": "e0228932",
   "metadata": {},
   "outputs": [],
   "source": [
    "import tensorflow as tf\n",
    "import tensorflow_addons as tfa\n",
    "from keras.preprocessing import image\n",
    "from keras.preprocessing.image import ImageDataGenerator\n",
    "from keras.callbacks import ReduceLROnPlateau\n",
    "from keras_preprocessing.image import img_to_array"
   ]
  },
  {
   "cell_type": "code",
   "execution_count": 3,
   "id": "984642bb",
   "metadata": {},
   "outputs": [],
   "source": [
    "train_dir = 'C:./SignLanguage_DataSet/train'\n",
    "train_folders = os.listdir(train_dir)\n",
    "test_dir = 'C:./SignLanguage_DataSet/test'\n",
    "test_files = os.listdir(test_dir)"
   ]
  },
  {
   "cell_type": "code",
   "execution_count": 4,
   "id": "0b84a73f",
   "metadata": {},
   "outputs": [
    {
     "name": "stdout",
     "output_type": "stream",
     "text": [
      "{'A': 0, 'B': 1, 'C': 2, 'D': 3, 'E': 4, 'F': 5, 'G': 6, 'H': 7, 'I': 8, 'J': 9, 'K': 10, 'L': 11, 'M': 12, 'N': 13, 'O': 14, 'P': 15, 'Q': 16, 'R': 17, 'S': 18, 'T': 19, 'U': 20, 'V': 21, 'W': 22, 'X': 23, 'Y': 24, 'Z': 25}\n",
      "{0: 'A', 1: 'B', 2: 'C', 3: 'D', 4: 'E', 5: 'F', 6: 'G', 7: 'H', 8: 'I', 9: 'J', 10: 'K', 11: 'L', 12: 'M', 13: 'N', 14: 'O', 15: 'P', 16: 'Q', 17: 'R', 18: 'S', 19: 'T', 20: 'U', 21: 'V', 22: 'W', 23: 'X', 24: 'Y', 25: 'Z'}\n"
     ]
    }
   ],
   "source": [
    "alphabet = [ \"A\",  \"B\",  \"C\",  \"D\", \"E\", \"F\",  \"G\", \"H\",\n",
    "                 \"I\",  \"J\",  \"K\" ,  \"L\" ,  \"M\" , \"N\" ,  \"O\" , \n",
    "                 \"P\" ,  \"Q\" , \"R\" , \"S\" , \"T\" , \"U\" , \"V\" ,\"W\" ,\n",
    "                 \"X\" , \"Y\" ,\"Z\" ]\n",
    "alpha_idx = {char:idx for idx, char in enumerate(alphabet)}\n",
    "idx_alpha = {idx:char for idx, char in enumerate(alphabet)}\n",
    "print(alpha_idx)\n",
    "print(idx_alpha)"
   ]
  },
  {
   "cell_type": "code",
   "execution_count": 5,
   "id": "18771904",
   "metadata": {},
   "outputs": [
    {
     "name": "stdout",
     "output_type": "stream",
     "text": [
      "Num GPUs Available:  1\n"
     ]
    }
   ],
   "source": [
    "print(\"Num GPUs Available: \", len(tf.config.list_physical_devices('GPU')))"
   ]
  },
  {
   "cell_type": "code",
   "execution_count": 6,
   "id": "f0877192",
   "metadata": {},
   "outputs": [
    {
     "name": "stdout",
     "output_type": "stream",
     "text": [
      "Reading Folder: A\n",
      "Reading Folder: B\n",
      "Reading Folder: C\n",
      "Reading Folder: D\n",
      "Reading Folder: E\n",
      "Reading Folder: F\n",
      "Reading Folder: G\n",
      "Reading Folder: H\n",
      "Reading Folder: I\n",
      "Reading Folder: J\n",
      "Reading Folder: K\n",
      "Reading Folder: L\n",
      "Reading Folder: M\n",
      "Reading Folder: N\n",
      "Reading Folder: O\n",
      "Reading Folder: P\n",
      "Reading Folder: Q\n",
      "Reading Folder: R\n",
      "Reading Folder: S\n",
      "Reading Folder: T\n",
      "Reading Folder: U\n",
      "Reading Folder: V\n",
      "Reading Folder: W\n",
      "Reading Folder: X\n",
      "Reading Folder: Y\n",
      "Reading Folder: Z\n",
      "train_images 27337\n",
      "train_labels 27337\n",
      "val_images 11683\n",
      "val_labels 11683\n"
     ]
    }
   ],
   "source": [
    "split = 0.7\n",
    "#Extract DATA\n",
    "train_images = []\n",
    "train_labels = []\n",
    "val_images = []\n",
    "val_labels = []\n",
    "for sub_dir in train_folders:\n",
    "  print(f\"Reading Folder: {sub_dir}\")\n",
    "  sub_dir_name = os.path.join(train_dir,sub_dir)\n",
    "  sub_dir_path = os.listdir(sub_dir_name)\n",
    "  total_image = len(sub_dir_path)\n",
    "  split_idx = int(total_image * split)\n",
    "  sub_data_list = os.listdir(sub_dir_name)\n",
    "  random.shuffle(sub_data_list)\n",
    "  for idx, file in enumerate(sub_data_list):\n",
    "    filename = os.fsdecode(file)\n",
    "    if filename.endswith(\".jpg\") or filename.endswith(\".png\"):\n",
    "        image_path = os.path.join(sub_dir_name,file)\n",
    "        if idx <= split_idx: #put in  training list\n",
    "          train_images.append(np.array(Image.open(image_path)))\n",
    "          train_labels.append(alpha_idx[sub_dir])\n",
    "        else: # if idx > split_idx put in validation list\n",
    "          val_images.append(np.array(Image.open(image_path)))\n",
    "          val_labels.append(alpha_idx[sub_dir])\n",
    "                                \n",
    "                                \n",
    "print(\"train_images\", len(train_images))\n",
    "print(\"train_labels\", len(train_labels))\n",
    "print(\"val_images\", len(val_images))\n",
    "print(\"val_labels\", len(val_labels))"
   ]
  },
  {
   "cell_type": "code",
   "execution_count": 8,
   "id": "1eead604",
   "metadata": {},
   "outputs": [
    {
     "name": "stdout",
     "output_type": "stream",
     "text": [
      "Training data shape:  (27337, 200, 200, 3)\n",
      "Training labels shape:  (27337,)\n",
      "Validation data shape:  (11683, 200, 200, 3)\n",
      "Validation labels shape:  (11683,)\n"
     ]
    }
   ],
   "source": [
    "# zip training data and shuffle\n",
    "training_data_zip = list(zip(train_images, train_labels))\n",
    "random.shuffle(training_data_zip)\n",
    "train_images, train_labels = zip(*training_data_zip)\n",
    "X_train, y_train = np.array(list(train_images)), np.array(list(train_labels))\n",
    "\n",
    "#zip validation data\n",
    "validation_data_zip = list(zip(val_images, val_labels))\n",
    "random.shuffle(validation_data_zip)\n",
    "val_images, val_labels = zip(*validation_data_zip)\n",
    "X_val, y_val = np.array(list(val_images)), np.array(list(val_labels))\n",
    "\n",
    "#Print Numpy Data Info\n",
    "print('Training data shape: ', X_train.shape)\n",
    "print('Training labels shape: ', y_train.shape)\n",
    "print('Validation data shape: ',X_val.shape)\n",
    "print('Validation labels shape: ',y_val.shape)\n",
    "# print('Test data shape: ', X_test.shape)"
   ]
  },
  {
   "cell_type": "code",
   "execution_count": 10,
   "id": "42904ff6",
   "metadata": {},
   "outputs": [
    {
     "name": "stdout",
     "output_type": "stream",
     "text": [
      "Train labels shape (one-hot):  (27337, 26)\n",
      "Train labels shape (one-hot):  (11683, 26)\n"
     ]
    }
   ],
   "source": [
    "#Convert Labels to one-hot\n",
    "y_train_dummy = tf.keras.utils.to_categorical(y_train)\n",
    "print('Train labels shape (one-hot): ', y_train_dummy.shape)\n",
    "y_val_dummy = tf.keras.utils.to_categorical(y_val)\n",
    "print('Train labels shape (one-hot): ', y_val_dummy.shape)"
   ]
  },
  {
   "cell_type": "code",
   "execution_count": 11,
   "id": "b169f38a",
   "metadata": {},
   "outputs": [],
   "source": [
    "model = tf.keras.models.Sequential([\n",
    "          #Convolutional Layers\n",
    "          tf.keras.layers.Conv2D(64, (3,3), padding='same', activation='relu', input_shape=(200, 200, 3)),\n",
    "          tf.keras.layers.MaxPooling2D((2,2),strides=2),\n",
    "          tf.keras.layers.Conv2D(64, (3,3), padding='same', activation='relu'),\n",
    "          tf.keras.layers.MaxPooling2D((2,2),strides=2),\n",
    "          tf.keras.layers.Conv2D(64, (3,3), padding='same', activation='relu'),\n",
    "          tf.keras.layers.MaxPooling2D((2,2),strides=2),\n",
    "          tf.keras.layers.Conv2D(64, (3,3), padding='same', activation='relu'),\n",
    "          tf.keras.layers.MaxPooling2D((2,2),strides=2),\n",
    "          tf.keras.layers.Conv2D(64, (3,3), padding='same', activation='relu'),\n",
    "          tf.keras.layers.MaxPooling2D((2,2),strides=2),\n",
    "          #DNN Layers\n",
    "          tf.keras.layers.Flatten(),\n",
    "          tf.keras.layers.Dropout(0.2),\n",
    "          tf.keras.layers.Dense(128,activation='relu'),\n",
    "          tf.keras.layers.Dense(128,activation='relu'),\n",
    "          tf.keras.layers.Dense(128,activation='relu'),\n",
    "          tf.keras.layers.Dense(128,activation='relu'),\n",
    "          tf.keras.layers.Dense(128,activation='relu'),\n",
    "          #Output Layer\n",
    "          tf.keras.layers.Dense(26,activation='softmax')\n",
    "        ])"
   ]
  },
  {
   "cell_type": "code",
   "execution_count": 12,
   "id": "d28a4000",
   "metadata": {},
   "outputs": [
    {
     "name": "stdout",
     "output_type": "stream",
     "text": [
      "Model: \"sequential\"\n",
      "_________________________________________________________________\n",
      " Layer (type)                Output Shape              Param #   \n",
      "=================================================================\n",
      " conv2d (Conv2D)             (None, 200, 200, 64)      1792      \n",
      "                                                                 \n",
      " max_pooling2d (MaxPooling2D  (None, 100, 100, 64)     0         \n",
      " )                                                               \n",
      "                                                                 \n",
      " conv2d_1 (Conv2D)           (None, 100, 100, 64)      36928     \n",
      "                                                                 \n",
      " max_pooling2d_1 (MaxPooling  (None, 50, 50, 64)       0         \n",
      " 2D)                                                             \n",
      "                                                                 \n",
      " conv2d_2 (Conv2D)           (None, 50, 50, 64)        36928     \n",
      "                                                                 \n",
      " max_pooling2d_2 (MaxPooling  (None, 25, 25, 64)       0         \n",
      " 2D)                                                             \n",
      "                                                                 \n",
      " conv2d_3 (Conv2D)           (None, 25, 25, 64)        36928     \n",
      "                                                                 \n",
      " max_pooling2d_3 (MaxPooling  (None, 12, 12, 64)       0         \n",
      " 2D)                                                             \n",
      "                                                                 \n",
      " conv2d_4 (Conv2D)           (None, 12, 12, 64)        36928     \n",
      "                                                                 \n",
      " max_pooling2d_4 (MaxPooling  (None, 6, 6, 64)         0         \n",
      " 2D)                                                             \n",
      "                                                                 \n",
      " flatten (Flatten)           (None, 2304)              0         \n",
      "                                                                 \n",
      " dropout (Dropout)           (None, 2304)              0         \n",
      "                                                                 \n",
      " dense (Dense)               (None, 128)               295040    \n",
      "                                                                 \n",
      " dense_1 (Dense)             (None, 128)               16512     \n",
      "                                                                 \n",
      " dense_2 (Dense)             (None, 128)               16512     \n",
      "                                                                 \n",
      " dense_3 (Dense)             (None, 128)               16512     \n",
      "                                                                 \n",
      " dense_4 (Dense)             (None, 128)               16512     \n",
      "                                                                 \n",
      " dense_5 (Dense)             (None, 26)                3354      \n",
      "                                                                 \n",
      "=================================================================\n",
      "Total params: 513,946\n",
      "Trainable params: 513,946\n",
      "Non-trainable params: 0\n",
      "_________________________________________________________________\n"
     ]
    }
   ],
   "source": [
    "learning_rate = 0.0001\n",
    "adam = tf.keras.optimizers.Adam(learning_rate=learning_rate)\n",
    "# loss = tf.keras.losses.SparseCategoricalCrossentropy()\n",
    "model.compile(optimizer=adam,loss='categorical_crossentropy',metrics=['accuracy'])\n",
    "model.summary()"
   ]
  },
  {
   "cell_type": "code",
   "execution_count": 13,
   "id": "08421312",
   "metadata": {},
   "outputs": [],
   "source": [
    "def preprocessesing(image):\n",
    "    image = tfa.image.sharpness(image, 1.5)\n",
    "    image = tf.image.rgb_to_grayscale(image)\n",
    "    image = tf.image.grayscale_to_rgb(image)\n",
    "    return image"
   ]
  },
  {
   "cell_type": "code",
   "execution_count": 14,
   "id": "5d984da0",
   "metadata": {},
   "outputs": [],
   "source": [
    "bs = 100 #batch size\n",
    "train_datagen=ImageDataGenerator(preprocessing_function=preprocessesing, horizontal_flip=True, rescale=1./255, rotation_range=3) \n",
    "train_generator = train_datagen.flow(X_train, y_train_dummy, batch_size=bs)\n",
    "validation_datagen = ImageDataGenerator(rescale=1./255,horizontal_flip=True)\n",
    "validation_generator = validation_datagen.flow(X_val, y_val_dummy, batch_size=bs)"
   ]
  },
  {
   "cell_type": "code",
   "execution_count": 16,
   "id": "2113a594",
   "metadata": {},
   "outputs": [],
   "source": [
    "class myCallback(tf.keras.callbacks.Callback):\n",
    "    def on_epoch_end(self, epoch, logs={}):\n",
    "        if(logs.get('val_accuracy')>=0.988):\n",
    "            print(\"\\nValidation Accuracy Reached Above 98.8%, Cancelling Training Operation\")\n",
    "            self.model.stop_training = True"
   ]
  },
  {
   "cell_type": "code",
   "execution_count": 17,
   "id": "f3c1d2e1",
   "metadata": {},
   "outputs": [
    {
     "name": "stdout",
     "output_type": "stream",
     "text": [
      "Epoch 1/50\n",
      "100/100 [==============================] - 109s 1s/step - loss: 3.1134 - accuracy: 0.0993 - val_loss: 1.9716 - val_accuracy: 0.4412 - lr: 1.0000e-04\n",
      "Epoch 2/50\n",
      "100/100 [==============================] - 100s 1s/step - loss: 1.0437 - accuracy: 0.6834 - val_loss: 0.5710 - val_accuracy: 0.8233 - lr: 1.0000e-04\n",
      "Epoch 3/50\n",
      "100/100 [==============================] - 97s 973ms/step - loss: 0.4776 - accuracy: 0.8557 - val_loss: 0.2712 - val_accuracy: 0.9245 - lr: 1.0000e-04\n",
      "Epoch 4/50\n",
      "100/100 [==============================] - 97s 969ms/step - loss: 0.3200 - accuracy: 0.9042 - val_loss: 0.3030 - val_accuracy: 0.9032 - lr: 1.0000e-04\n",
      "Epoch 5/50\n",
      "100/100 [==============================] - 95s 949ms/step - loss: 0.2581 - accuracy: 0.9208 - val_loss: 0.1540 - val_accuracy: 0.9556 - lr: 1.0000e-04\n",
      "Epoch 6/50\n",
      "100/100 [==============================] - 95s 953ms/step - loss: 0.1828 - accuracy: 0.9449 - val_loss: 0.1171 - val_accuracy: 0.9672 - lr: 1.0000e-04\n",
      "Epoch 7/50\n",
      "100/100 [==============================] - 96s 963ms/step - loss: 0.1601 - accuracy: 0.9532 - val_loss: 0.1214 - val_accuracy: 0.9640 - lr: 1.0000e-04\n",
      "Epoch 8/50\n",
      "100/100 [==============================] - 96s 960ms/step - loss: 0.1368 - accuracy: 0.9572 - val_loss: 0.0908 - val_accuracy: 0.9729 - lr: 1.0000e-04\n",
      "Epoch 9/50\n",
      "100/100 [==============================] - 102s 1s/step - loss: 0.1173 - accuracy: 0.9651 - val_loss: 0.1301 - val_accuracy: 0.9617 - lr: 1.0000e-04\n",
      "Epoch 10/50\n",
      "100/100 [==============================] - 95s 948ms/step - loss: 0.1038 - accuracy: 0.9678 - val_loss: 0.0754 - val_accuracy: 0.9771 - lr: 1.0000e-04\n",
      "Epoch 11/50\n",
      "100/100 [==============================] - 94s 940ms/step - loss: 0.0959 - accuracy: 0.9712 - val_loss: 0.0948 - val_accuracy: 0.9695 - lr: 1.0000e-04\n",
      "Epoch 12/50\n",
      "100/100 [==============================] - 94s 937ms/step - loss: 0.0774 - accuracy: 0.9758 - val_loss: 0.0478 - val_accuracy: 0.9866 - lr: 1.0000e-04\n",
      "Epoch 13/50\n",
      "100/100 [==============================] - 94s 943ms/step - loss: 0.0731 - accuracy: 0.9760 - val_loss: 0.0480 - val_accuracy: 0.9865 - lr: 1.0000e-04\n",
      "Epoch 14/50\n",
      "100/100 [==============================] - 94s 940ms/step - loss: 0.0649 - accuracy: 0.9794 - val_loss: 0.0483 - val_accuracy: 0.9858 - lr: 1.0000e-04\n",
      "Epoch 15/50\n",
      "100/100 [==============================] - 96s 959ms/step - loss: 0.0578 - accuracy: 0.9834 - val_loss: 0.0472 - val_accuracy: 0.9873 - lr: 1.0000e-04\n",
      "Epoch 16/50\n",
      "100/100 [==============================] - 115s 1s/step - loss: 0.0568 - accuracy: 0.9823 - val_loss: 0.0396 - val_accuracy: 0.9875 - lr: 1.0000e-04\n",
      "Epoch 17/50\n",
      "100/100 [==============================] - 153s 2s/step - loss: 0.0502 - accuracy: 0.9851 - val_loss: 0.0488 - val_accuracy: 0.9862 - lr: 1.0000e-04\n",
      "Epoch 18/50\n",
      "100/100 [==============================] - 106s 1s/step - loss: 0.0510 - accuracy: 0.9828 - val_loss: 0.0523 - val_accuracy: 0.9842 - lr: 1.0000e-04\n",
      "Epoch 19/50\n",
      "100/100 [==============================] - ETA: 0s - loss: 0.0407 - accuracy: 0.9887\n",
      "Validation Accuracy Reached Above 98.8%, Cancelling Training Operation\n",
      "100/100 [==============================] - 109s 1s/step - loss: 0.0407 - accuracy: 0.9887 - val_loss: 0.0309 - val_accuracy: 0.9914 - lr: 1.0000e-04\n"
     ]
    }
   ],
   "source": [
    "epc = 50 #number of epoches\n",
    "# reduce learning rate if model keeps jumping between minima\n",
    "reduce_lr = ReduceLROnPlateau(monitor='val_loss',\n",
    "                              factor=0.2, patience=3, min_lr=0.00001)\n",
    "history = model.fit(train_generator,\n",
    "                validation_data=validation_generator,\n",
    "                steps_per_epoch=100,\n",
    "                epochs=epc,\n",
    "                callbacks=[reduce_lr, myCallback()]\n",
    "                )"
   ]
  },
  {
   "cell_type": "code",
   "execution_count": 19,
   "id": "211639d2",
   "metadata": {},
   "outputs": [
    {
     "data": {
      "image/png": "[encoded data removed]",
      "text/plain": [
       "<Figure size 640x480 with 1 Axes>"
      ]
     },
     "metadata": {},
     "output_type": "display_data"
    }
   ],
   "source": [
    "plt.plot(history.history['accuracy'])\n",
    "plt.plot(history.history['val_accuracy'])\n",
    "plt.title(\"Accuracy\")\n",
    "plt.xlabel('epoch')\n",
    "plt.ylabel('accuracy')\n",
    "plt.legend(['train','test'])\n",
    "plt.show()"
   ]
  },
  {
   "cell_type": "code",
   "execution_count": null,
   "id": "e8edab7c",
   "metadata": {},
   "outputs": [],
   "source": [
    "#save model\n",
    "model.save(filepath = \"./TrainedModels/CustomDataset/CustomASLModel+99VA\")\n"
   ]
  },
  {
   "cell_type": "code",
   "execution_count": null,
   "id": "64b22682",
   "metadata": {},
   "outputs": [],
   "source": []
  }
 ],
 "metadata": {
  "kernelspec": {
   "display_name": "Python 3 (ipykernel)",
   "language": "python",
   "name": "python3"
  },
  "language_info": {
   "codemirror_mode": {
    "name": "ipython",
    "version": 3
   },
   "file_extension": ".py",
   "mimetype": "text/x-python",
   "name": "python",
   "nbconvert_exporter": "python",
   "pygments_lexer": "ipython3",
   "version": "3.10.8"
  }
 },
 "nbformat": 4,
 "nbformat_minor": 5
}
